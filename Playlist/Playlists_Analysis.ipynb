{
 "cells": [
  {
   "cell_type": "code",
   "execution_count": 18,
   "id": "5a510176",
   "metadata": {},
   "outputs": [],
   "source": [
    "import spotipy\n",
    "from spotipy.oauth2 import SpotifyOAuth \n",
    "from spotipy.oauth2 import SpotifyClientCredentials\n",
    "import pandas as pd\n",
    "import plotly.express as px\n",
    "import matplotlib.pyplot as plt"
   ]
  },
  {
   "cell_type": "code",
   "execution_count": 19,
   "id": "bc29927f",
   "metadata": {},
   "outputs": [],
   "source": [
    "# To get client ID and client secret\n",
    "client_id = '9ff8454bd3e049b6a1229206ce536ac8'  # <-- Replace with your own client ID\n",
    "client_secret = '24c245fb45fa46eb8c57d36dd8770b3d' # <-- Replace with your own client secret\n",
    "auth_manage = SpotifyClientCredentials(client_id = client_id, client_secret = client_secret)\n",
    "sp = spotipy.Spotify(client_credentials_manager = auth_manage)"
   ]
  },
  {
   "cell_type": "code",
   "execution_count": 20,
   "id": "bb1858b1",
   "metadata": {},
   "outputs": [],
   "source": [
    "# Getting ID of songs in Playlist\n",
    "def get_playlist_ids (user, playlist_id):\n",
    "    track_ids = []\n",
    "    album = sp.user_playlist(user, playlist_id)\n",
    "    for item in album ['tracks']['items']:\n",
    "        track = item['track']\n",
    "        track_ids.append(track['id'])\n",
    "    return track_ids"
   ]
  },
  {
   "cell_type": "markdown",
   "id": "4d95f37a",
   "metadata": {},
   "source": [
    "The user_id below should be your username in your Spotify profile page, and the playlist_id is the last part of the playlist URL, after open.spotify.com/playlist/"
   ]
  },
  {
   "cell_type": "code",
   "execution_count": 21,
   "id": "edb3eb41",
   "metadata": {},
   "outputs": [],
   "source": [
    "user_id = '31flqmapu6wd5a57mqga7pbgfobq' \n",
    "playlist_id = '68BNq6D6mv5qVF7PXUKl7X'\n",
    "# Get track IDs in the playlist\n",
    "track_ids = get_playlist_ids(user_id, playlist_id)\n",
    "# print(track_ids)"
   ]
  },
  {
   "cell_type": "code",
   "execution_count": 22,
   "id": "b0e4325b",
   "metadata": {},
   "outputs": [],
   "source": [
    "# Function to get track info and features\n",
    "def get_track_data(track_id):\n",
    "    track_info = sp.track(track_id)\n",
    "    features_info = sp.audio_features(track_id)[0]\n",
    "    return {\n",
    "        'id': track_info['id'],\n",
    "        'name': track_info['name'],\n",
    "        'artists': ', '.join([artist['name'] for artist in track_info['artists']]),\n",
    "        'popularity': track_info['popularity'],\n",
    "        'release_date': track_info['album']['release_date'],\n",
    "        'explicit': track_info['explicit'],\n",
    "        'duration_ms': track_info['duration_ms'],\n",
    "        'danceability': features_info['danceability'],\n",
    "        'energy': features_info['energy'],\n",
    "        'key': features_info['key'],\n",
    "        'mode': features_info['mode'],\n",
    "        'tempo': features_info['tempo'],\n",
    "        'valence': features_info['valence']\n",
    "    }\n"
   ]
  },
  {
   "cell_type": "code",
   "execution_count": 23,
   "id": "7072f697",
   "metadata": {},
   "outputs": [
    {
     "name": "stdout",
     "output_type": "stream",
     "text": [
      "                       id                   name     artists  popularity  \\\n",
      "0  0obBFrPYkSoBJbvHfUIhkv     Sexy And I Know It       LMFAO          65   \n",
      "1  0js3FSEsVCVHHsIWp0Y1q8           Good Feeling    Flo Rida           0   \n",
      "2  6hkOqJ5mE093AQf2lbZnsG  The One That Got Away  Katy Perry          75   \n",
      "3  73CMRj62VK8nUS4ezD2wvi   Set Fire to the Rain       Adele          83   \n",
      "4  53QF56cjZA9RTuuMZDrSA6        I Won't Give Up  Jason Mraz          72   \n",
      "\n",
      "  release_date  explicit  duration_ms  danceability  energy  key  mode  \\\n",
      "0   2011-01-01     False       199480         0.707   0.861    7     1   \n",
      "1   2022-06-24     False       248133         0.706   0.890    1     0   \n",
      "2   2010-01-01     False       227333         0.691   0.795    1     0   \n",
      "3   2011-01-24     False       242973         0.603   0.670    2     0   \n",
      "4   2012-04-13     False       240165         0.483   0.303    4     1   \n",
      "\n",
      "     tempo  valence  \n",
      "0  130.021    0.795  \n",
      "1  128.012    0.685  \n",
      "2  133.971    0.876  \n",
      "3  107.993    0.446  \n",
      "4  133.406    0.139  \n"
     ]
    }
   ],
   "source": [
    "# Get track data for all tracks in the playlist\n",
    "playlist_data = [get_track_data(track_id) for track_id in track_ids]\n",
    "\n",
    "# Convert the list of dictionaries to a DataFrame\n",
    "playlist_df = pd.DataFrame(playlist_data)\n",
    "\n",
    "# Save the DataFrame to a CSV file\n",
    "playlist_df.to_csv('playlist_features.csv', index=False)\n",
    "\n",
    "# Display the first five rows of the DataFrame\n",
    "print(playlist_df.head())"
   ]
  },
  {
   "cell_type": "code",
   "execution_count": 24,
   "id": "62d0a588",
   "metadata": {},
   "outputs": [
    {
     "data": {
      "text/plain": [
       "id               object\n",
       "name             object\n",
       "artists          object\n",
       "popularity        int64\n",
       "release_date     object\n",
       "explicit           bool\n",
       "duration_ms       int64\n",
       "danceability    float64\n",
       "energy          float64\n",
       "key               int64\n",
       "mode              int64\n",
       "tempo           float64\n",
       "valence         float64\n",
       "dtype: object"
      ]
     },
     "execution_count": 24,
     "metadata": {},
     "output_type": "execute_result"
    }
   ],
   "source": [
    "playlist_df.dtypes"
   ]
  },
  {
   "cell_type": "code",
   "execution_count": 25,
   "id": "065e1679",
   "metadata": {},
   "outputs": [
    {
     "name": "stdout",
     "output_type": "stream",
     "text": [
      "Example Track Data: {'id': '6hkOqJ5mE093AQf2lbZnsG', 'name': 'The One That Got Away', 'artists': 'Katy Perry', 'popularity': 75, 'release_date': '2010-01-01', 'explicit': False, 'duration_ms': 227333, 'danceability': 0.691, 'energy': 0.795, 'key': 1, 'mode': 0, 'tempo': 133.971, 'valence': 0.876}\n"
     ]
    }
   ],
   "source": [
    "# Print out track data of a specific track\n",
    "example_track_id = '6hkOqJ5mE093AQf2lbZnsG'\n",
    "example_track_data = get_track_data(example_track_id)\n",
    "print(\"Example Track Data:\", example_track_data)"
   ]
  },
  {
   "cell_type": "code",
   "execution_count": 26,
   "id": "4498b6cb",
   "metadata": {},
   "outputs": [
    {
     "name": "stdout",
     "output_type": "stream",
     "text": [
      "Highest Populated Song: Locked out of Heaven\n",
      "Lowest Populated Song: Good Feeling\n"
     ]
    }
   ],
   "source": [
    "# Getting highest and lowest populated songs\n",
    "highest_populated_song = playlist_df.loc[playlist_df['popularity'].idxmax()]\n",
    "lowest_populated_song = playlist_df.loc[playlist_df['popularity'].idxmin()]\n",
    "print(\"Highest Populated Song:\", highest_populated_song['name'])\n",
    "print(\"Lowest Populated Song:\", lowest_populated_song['name'])"
   ]
  },
  {
   "cell_type": "code",
   "execution_count": 27,
   "id": "ac49298b",
   "metadata": {},
   "outputs": [
    {
     "data": {
      "text/html": [
       "<div>\n",
       "<style scoped>\n",
       "    .dataframe tbody tr th:only-of-type {\n",
       "        vertical-align: middle;\n",
       "    }\n",
       "\n",
       "    .dataframe tbody tr th {\n",
       "        vertical-align: top;\n",
       "    }\n",
       "\n",
       "    .dataframe thead th {\n",
       "        text-align: right;\n",
       "    }\n",
       "</style>\n",
       "<table border=\"1\" class=\"dataframe\">\n",
       "  <thead>\n",
       "    <tr style=\"text-align: right;\">\n",
       "      <th></th>\n",
       "      <th>id</th>\n",
       "      <th>name</th>\n",
       "      <th>artists</th>\n",
       "      <th>popularity</th>\n",
       "      <th>release_date</th>\n",
       "      <th>explicit</th>\n",
       "      <th>duration_ms</th>\n",
       "      <th>danceability</th>\n",
       "      <th>energy</th>\n",
       "      <th>key</th>\n",
       "      <th>mode</th>\n",
       "      <th>tempo</th>\n",
       "      <th>valence</th>\n",
       "    </tr>\n",
       "  </thead>\n",
       "  <tbody>\n",
       "    <tr>\n",
       "      <th>32</th>\n",
       "      <td>3w3y8KPTfNeOKPiqUTakBh</td>\n",
       "      <td>Locked out of Heaven</td>\n",
       "      <td>Bruno Mars</td>\n",
       "      <td>91</td>\n",
       "      <td>2012-12-07</td>\n",
       "      <td>False</td>\n",
       "      <td>233478</td>\n",
       "      <td>0.726</td>\n",
       "      <td>0.698</td>\n",
       "      <td>5</td>\n",
       "      <td>1</td>\n",
       "      <td>143.994</td>\n",
       "      <td>0.8670</td>\n",
       "    </tr>\n",
       "    <tr>\n",
       "      <th>27</th>\n",
       "      <td>6VObnIkLVruX4UVyxWhlqm</td>\n",
       "      <td>Skyfall</td>\n",
       "      <td>Adele</td>\n",
       "      <td>86</td>\n",
       "      <td>2012-10-04</td>\n",
       "      <td>False</td>\n",
       "      <td>286480</td>\n",
       "      <td>0.346</td>\n",
       "      <td>0.552</td>\n",
       "      <td>0</td>\n",
       "      <td>0</td>\n",
       "      <td>75.881</td>\n",
       "      <td>0.0789</td>\n",
       "    </tr>\n",
       "    <tr>\n",
       "      <th>3</th>\n",
       "      <td>73CMRj62VK8nUS4ezD2wvi</td>\n",
       "      <td>Set Fire to the Rain</td>\n",
       "      <td>Adele</td>\n",
       "      <td>83</td>\n",
       "      <td>2011-01-24</td>\n",
       "      <td>False</td>\n",
       "      <td>242973</td>\n",
       "      <td>0.603</td>\n",
       "      <td>0.670</td>\n",
       "      <td>2</td>\n",
       "      <td>0</td>\n",
       "      <td>107.993</td>\n",
       "      <td>0.4460</td>\n",
       "    </tr>\n",
       "    <tr>\n",
       "      <th>21</th>\n",
       "      <td>2iUmqdfGZcHIhS3b9E9EWq</td>\n",
       "      <td>Everybody Talks</td>\n",
       "      <td>Neon Trees</td>\n",
       "      <td>81</td>\n",
       "      <td>2012-01-01</td>\n",
       "      <td>True</td>\n",
       "      <td>177280</td>\n",
       "      <td>0.471</td>\n",
       "      <td>0.924</td>\n",
       "      <td>8</td>\n",
       "      <td>1</td>\n",
       "      <td>154.961</td>\n",
       "      <td>0.7250</td>\n",
       "    </tr>\n",
       "    <tr>\n",
       "      <th>17</th>\n",
       "      <td>3bC1ahPIYt1btJzSSEyyrF</td>\n",
       "      <td>Whistle</td>\n",
       "      <td>Flo Rida</td>\n",
       "      <td>81</td>\n",
       "      <td>2012-06-22</td>\n",
       "      <td>False</td>\n",
       "      <td>224653</td>\n",
       "      <td>0.747</td>\n",
       "      <td>0.937</td>\n",
       "      <td>0</td>\n",
       "      <td>1</td>\n",
       "      <td>103.976</td>\n",
       "      <td>0.7390</td>\n",
       "    </tr>\n",
       "  </tbody>\n",
       "</table>\n",
       "</div>"
      ],
      "text/plain": [
       "                        id                  name     artists  popularity  \\\n",
       "32  3w3y8KPTfNeOKPiqUTakBh  Locked out of Heaven  Bruno Mars          91   \n",
       "27  6VObnIkLVruX4UVyxWhlqm               Skyfall       Adele          86   \n",
       "3   73CMRj62VK8nUS4ezD2wvi  Set Fire to the Rain       Adele          83   \n",
       "21  2iUmqdfGZcHIhS3b9E9EWq       Everybody Talks  Neon Trees          81   \n",
       "17  3bC1ahPIYt1btJzSSEyyrF               Whistle    Flo Rida          81   \n",
       "\n",
       "   release_date  explicit  duration_ms  danceability  energy  key  mode  \\\n",
       "32   2012-12-07     False       233478         0.726   0.698    5     1   \n",
       "27   2012-10-04     False       286480         0.346   0.552    0     0   \n",
       "3    2011-01-24     False       242973         0.603   0.670    2     0   \n",
       "21   2012-01-01      True       177280         0.471   0.924    8     1   \n",
       "17   2012-06-22     False       224653         0.747   0.937    0     1   \n",
       "\n",
       "      tempo  valence  \n",
       "32  143.994   0.8670  \n",
       "27   75.881   0.0789  \n",
       "3   107.993   0.4460  \n",
       "21  154.961   0.7250  \n",
       "17  103.976   0.7390  "
      ]
     },
     "execution_count": 27,
     "metadata": {},
     "output_type": "execute_result"
    }
   ],
   "source": [
    "# Print out the first five high populated songs\n",
    "high_populated = playlist_df.loc[lambda playlist: playlist[\"popularity\"] >= 70].sort_values(by=[\"popularity\"], ascending = False)\n",
    "high_populated.head()"
   ]
  },
  {
   "cell_type": "code",
   "execution_count": 28,
   "id": "a17b62bc",
   "metadata": {},
   "outputs": [
    {
     "data": {
      "text/html": [
       "<div>\n",
       "<style scoped>\n",
       "    .dataframe tbody tr th:only-of-type {\n",
       "        vertical-align: middle;\n",
       "    }\n",
       "\n",
       "    .dataframe tbody tr th {\n",
       "        vertical-align: top;\n",
       "    }\n",
       "\n",
       "    .dataframe thead th {\n",
       "        text-align: right;\n",
       "    }\n",
       "</style>\n",
       "<table border=\"1\" class=\"dataframe\">\n",
       "  <thead>\n",
       "    <tr style=\"text-align: right;\">\n",
       "      <th></th>\n",
       "      <th>id</th>\n",
       "      <th>name</th>\n",
       "      <th>artists</th>\n",
       "      <th>popularity</th>\n",
       "      <th>release_date</th>\n",
       "      <th>explicit</th>\n",
       "      <th>duration_ms</th>\n",
       "      <th>danceability</th>\n",
       "      <th>energy</th>\n",
       "      <th>key</th>\n",
       "      <th>mode</th>\n",
       "      <th>tempo</th>\n",
       "      <th>valence</th>\n",
       "    </tr>\n",
       "  </thead>\n",
       "  <tbody>\n",
       "    <tr>\n",
       "      <th>1</th>\n",
       "      <td>0js3FSEsVCVHHsIWp0Y1q8</td>\n",
       "      <td>Good Feeling</td>\n",
       "      <td>Flo Rida</td>\n",
       "      <td>0</td>\n",
       "      <td>2022-06-24</td>\n",
       "      <td>False</td>\n",
       "      <td>248133</td>\n",
       "      <td>0.706</td>\n",
       "      <td>0.890</td>\n",
       "      <td>1</td>\n",
       "      <td>0</td>\n",
       "      <td>128.012</td>\n",
       "      <td>0.685</td>\n",
       "    </tr>\n",
       "    <tr>\n",
       "      <th>11</th>\n",
       "      <td>7bR1jsWttxgvgvHZ2NhCO3</td>\n",
       "      <td>Call Me Maybe</td>\n",
       "      <td>Carly Rae Jepsen</td>\n",
       "      <td>0</td>\n",
       "      <td>2022-06-30</td>\n",
       "      <td>False</td>\n",
       "      <td>193146</td>\n",
       "      <td>0.772</td>\n",
       "      <td>0.600</td>\n",
       "      <td>7</td>\n",
       "      <td>1</td>\n",
       "      <td>120.026</td>\n",
       "      <td>0.644</td>\n",
       "    </tr>\n",
       "    <tr>\n",
       "      <th>12</th>\n",
       "      <td>2M4JeeHaLCAVgzze2C07zM</td>\n",
       "      <td>What Makes You Beautiful - Originally By One D...</td>\n",
       "      <td>HOT 100</td>\n",
       "      <td>0</td>\n",
       "      <td>2012-03-22</td>\n",
       "      <td>False</td>\n",
       "      <td>29733</td>\n",
       "      <td>0.666</td>\n",
       "      <td>0.878</td>\n",
       "      <td>9</td>\n",
       "      <td>0</td>\n",
       "      <td>124.965</td>\n",
       "      <td>0.932</td>\n",
       "    </tr>\n",
       "    <tr>\n",
       "      <th>5</th>\n",
       "      <td>2Pi11XaXLiQFtknSnoVbQ3</td>\n",
       "      <td>Rack City</td>\n",
       "      <td>Tyga</td>\n",
       "      <td>4</td>\n",
       "      <td>2021-10-22</td>\n",
       "      <td>True</td>\n",
       "      <td>208440</td>\n",
       "      <td>0.930</td>\n",
       "      <td>0.332</td>\n",
       "      <td>1</td>\n",
       "      <td>1</td>\n",
       "      <td>98.966</td>\n",
       "      <td>0.255</td>\n",
       "    </tr>\n",
       "    <tr>\n",
       "      <th>7</th>\n",
       "      <td>2BqSKeUHLR7o30IEt9OJa4</td>\n",
       "      <td>Stronger (What Doesn't Kill You) - 7th Heaven ...</td>\n",
       "      <td>Kelly Clarkson</td>\n",
       "      <td>15</td>\n",
       "      <td>2012-02-03</td>\n",
       "      <td>False</td>\n",
       "      <td>448440</td>\n",
       "      <td>0.619</td>\n",
       "      <td>0.861</td>\n",
       "      <td>9</td>\n",
       "      <td>0</td>\n",
       "      <td>126.002</td>\n",
       "      <td>0.659</td>\n",
       "    </tr>\n",
       "  </tbody>\n",
       "</table>\n",
       "</div>"
      ],
      "text/plain": [
       "                        id                                               name  \\\n",
       "1   0js3FSEsVCVHHsIWp0Y1q8                                       Good Feeling   \n",
       "11  7bR1jsWttxgvgvHZ2NhCO3                                      Call Me Maybe   \n",
       "12  2M4JeeHaLCAVgzze2C07zM  What Makes You Beautiful - Originally By One D...   \n",
       "5   2Pi11XaXLiQFtknSnoVbQ3                                          Rack City   \n",
       "7   2BqSKeUHLR7o30IEt9OJa4  Stronger (What Doesn't Kill You) - 7th Heaven ...   \n",
       "\n",
       "             artists  popularity release_date  explicit  duration_ms  \\\n",
       "1           Flo Rida           0   2022-06-24     False       248133   \n",
       "11  Carly Rae Jepsen           0   2022-06-30     False       193146   \n",
       "12           HOT 100           0   2012-03-22     False        29733   \n",
       "5               Tyga           4   2021-10-22      True       208440   \n",
       "7     Kelly Clarkson          15   2012-02-03     False       448440   \n",
       "\n",
       "    danceability  energy  key  mode    tempo  valence  \n",
       "1          0.706   0.890    1     0  128.012    0.685  \n",
       "11         0.772   0.600    7     1  120.026    0.644  \n",
       "12         0.666   0.878    9     0  124.965    0.932  \n",
       "5          0.930   0.332    1     1   98.966    0.255  \n",
       "7          0.619   0.861    9     0  126.002    0.659  "
      ]
     },
     "execution_count": 28,
     "metadata": {},
     "output_type": "execute_result"
    }
   ],
   "source": [
    "# Print out the five lowest populated songs\n",
    "low_populated = playlist_df.loc[lambda playlist: playlist[\"popularity\"] <= 30].sort_values(by=[\"popularity\"], ascending=True)\n",
    "low_populated.head()"
   ]
  },
  {
   "cell_type": "code",
   "execution_count": 29,
   "id": "84ee36b8",
   "metadata": {},
   "outputs": [
    {
     "data": {
      "text/html": [
       "<div>\n",
       "<style scoped>\n",
       "    .dataframe tbody tr th:only-of-type {\n",
       "        vertical-align: middle;\n",
       "    }\n",
       "\n",
       "    .dataframe tbody tr th {\n",
       "        vertical-align: top;\n",
       "    }\n",
       "\n",
       "    .dataframe thead th {\n",
       "        text-align: right;\n",
       "    }\n",
       "</style>\n",
       "<table border=\"1\" class=\"dataframe\">\n",
       "  <thead>\n",
       "    <tr style=\"text-align: right;\">\n",
       "      <th></th>\n",
       "      <th>id</th>\n",
       "      <th>name</th>\n",
       "      <th>artists</th>\n",
       "      <th>popularity</th>\n",
       "      <th>release_date</th>\n",
       "      <th>explicit</th>\n",
       "      <th>duration_ms</th>\n",
       "      <th>danceability</th>\n",
       "      <th>energy</th>\n",
       "      <th>key</th>\n",
       "      <th>mode</th>\n",
       "      <th>tempo</th>\n",
       "      <th>valence</th>\n",
       "    </tr>\n",
       "  </thead>\n",
       "  <tbody>\n",
       "    <tr>\n",
       "      <th>2</th>\n",
       "      <td>6hkOqJ5mE093AQf2lbZnsG</td>\n",
       "      <td>The One That Got Away</td>\n",
       "      <td>Katy Perry</td>\n",
       "      <td>75</td>\n",
       "      <td>2010-01-01</td>\n",
       "      <td>False</td>\n",
       "      <td>227333</td>\n",
       "      <td>0.691</td>\n",
       "      <td>0.795</td>\n",
       "      <td>1</td>\n",
       "      <td>0</td>\n",
       "      <td>133.971</td>\n",
       "      <td>0.876</td>\n",
       "    </tr>\n",
       "    <tr>\n",
       "      <th>0</th>\n",
       "      <td>0obBFrPYkSoBJbvHfUIhkv</td>\n",
       "      <td>Sexy And I Know It</td>\n",
       "      <td>LMFAO</td>\n",
       "      <td>65</td>\n",
       "      <td>2011-01-01</td>\n",
       "      <td>False</td>\n",
       "      <td>199480</td>\n",
       "      <td>0.707</td>\n",
       "      <td>0.861</td>\n",
       "      <td>7</td>\n",
       "      <td>1</td>\n",
       "      <td>130.021</td>\n",
       "      <td>0.795</td>\n",
       "    </tr>\n",
       "    <tr>\n",
       "      <th>6</th>\n",
       "      <td>6MAdEUilV2p9RQUqE5bMAK</td>\n",
       "      <td>Domino</td>\n",
       "      <td>Jessie J</td>\n",
       "      <td>67</td>\n",
       "      <td>2011-01-01</td>\n",
       "      <td>False</td>\n",
       "      <td>231693</td>\n",
       "      <td>0.757</td>\n",
       "      <td>0.547</td>\n",
       "      <td>7</td>\n",
       "      <td>1</td>\n",
       "      <td>126.977</td>\n",
       "      <td>0.793</td>\n",
       "    </tr>\n",
       "    <tr>\n",
       "      <th>22</th>\n",
       "      <td>4sK96UnGx3NjBaqvfTG2dm</td>\n",
       "      <td>Too Close</td>\n",
       "      <td>Alex Clare</td>\n",
       "      <td>60</td>\n",
       "      <td>2011-01-01</td>\n",
       "      <td>False</td>\n",
       "      <td>256560</td>\n",
       "      <td>0.584</td>\n",
       "      <td>0.712</td>\n",
       "      <td>11</td>\n",
       "      <td>0</td>\n",
       "      <td>126.043</td>\n",
       "      <td>0.286</td>\n",
       "    </tr>\n",
       "    <tr>\n",
       "      <th>3</th>\n",
       "      <td>73CMRj62VK8nUS4ezD2wvi</td>\n",
       "      <td>Set Fire to the Rain</td>\n",
       "      <td>Adele</td>\n",
       "      <td>83</td>\n",
       "      <td>2011-01-24</td>\n",
       "      <td>False</td>\n",
       "      <td>242973</td>\n",
       "      <td>0.603</td>\n",
       "      <td>0.670</td>\n",
       "      <td>2</td>\n",
       "      <td>0</td>\n",
       "      <td>107.993</td>\n",
       "      <td>0.446</td>\n",
       "    </tr>\n",
       "  </tbody>\n",
       "</table>\n",
       "</div>"
      ],
      "text/plain": [
       "                        id                   name     artists  popularity  \\\n",
       "2   6hkOqJ5mE093AQf2lbZnsG  The One That Got Away  Katy Perry          75   \n",
       "0   0obBFrPYkSoBJbvHfUIhkv     Sexy And I Know It       LMFAO          65   \n",
       "6   6MAdEUilV2p9RQUqE5bMAK                 Domino    Jessie J          67   \n",
       "22  4sK96UnGx3NjBaqvfTG2dm              Too Close  Alex Clare          60   \n",
       "3   73CMRj62VK8nUS4ezD2wvi   Set Fire to the Rain       Adele          83   \n",
       "\n",
       "   release_date  explicit  duration_ms  danceability  energy  key  mode  \\\n",
       "2    2010-01-01     False       227333         0.691   0.795    1     0   \n",
       "0    2011-01-01     False       199480         0.707   0.861    7     1   \n",
       "6    2011-01-01     False       231693         0.757   0.547    7     1   \n",
       "22   2011-01-01     False       256560         0.584   0.712   11     0   \n",
       "3    2011-01-24     False       242973         0.603   0.670    2     0   \n",
       "\n",
       "      tempo  valence  \n",
       "2   133.971    0.876  \n",
       "0   130.021    0.795  \n",
       "6   126.977    0.793  \n",
       "22  126.043    0.286  \n",
       "3   107.993    0.446  "
      ]
     },
     "execution_count": 29,
     "metadata": {},
     "output_type": "execute_result"
    }
   ],
   "source": [
    "# Changing the 'Release_Date' column type from object to date\n",
    "playlist_df[\"release_date\"] = pd.to_datetime(playlist_df[\"release_date\"])\n",
    "\n",
    "old_songs = playlist_df.sort_values(by=\"release_date\", ascending=True)\n",
    "old_songs.head()"
   ]
  },
  {
   "cell_type": "code",
   "execution_count": 34,
   "id": "f08c33c4",
   "metadata": {},
   "outputs": [
    {
     "data": {
      "application/vnd.plotly.v1+json": {
       "config": {
        "plotlyServerURL": "https://plot.ly"
       },
       "data": [
        {
         "hovertemplate": "tempo=%{x}<br>danceability=%{y}<br>popularity=%{marker.color}<extra></extra>",
         "legendgroup": "",
         "marker": {
          "color": [
           65,
           0,
           75,
           83,
           72,
           4,
           67,
           15,
           74,
           65,
           78,
           0,
           0,
           80,
           77,
           80,
           69,
           81,
           71,
           73,
           77,
           81,
           60,
           75,
           73,
           75,
           80,
           86,
           80,
           77,
           71,
           64,
           91,
           68,
           79
          ],
          "coloraxis": "coloraxis",
          "symbol": "circle"
         },
         "mode": "markers",
         "name": "",
         "orientation": "v",
         "showlegend": false,
         "type": "scatter",
         "x": [
          130.021,
          128.012,
          133.971,
          107.993,
          133.406,
          98.966,
          126.977,
          126.002,
          130.01,
          129.925,
          96.976,
          120.026,
          124.965,
          122.028,
          127.963,
          159.814,
          127.992,
          103.976,
          107.938,
          92.998,
          85.984,
          154.961,
          126.043,
          132.067,
          78.915,
          126.039,
          125.047,
          75.881,
          128.001,
          91.972,
          124.91,
          127.967,
          143.994,
          126.035,
          79.936
         ],
         "xaxis": "x",
         "y": [
          0.707,
          0.706,
          0.691,
          0.603,
          0.483,
          0.93,
          0.757,
          0.619,
          0.667,
          0.594,
          0.717,
          0.772,
          0.666,
          0.765,
          0.719,
          0.514,
          0.616,
          0.747,
          0.672,
          0.718,
          0.628,
          0.471,
          0.584,
          0.727,
          0.519,
          0.663,
          0.516,
          0.346,
          0.711,
          0.564,
          0.658,
          0.602,
          0.726,
          0.693,
          0.685
         ],
         "yaxis": "y"
        }
       ],
       "layout": {
        "coloraxis": {
         "colorbar": {
          "title": {
           "text": "popularity"
          }
         },
         "colorscale": [
          [
           0,
           "#0d0887"
          ],
          [
           0.1111111111111111,
           "#46039f"
          ],
          [
           0.2222222222222222,
           "#7201a8"
          ],
          [
           0.3333333333333333,
           "#9c179e"
          ],
          [
           0.4444444444444444,
           "#bd3786"
          ],
          [
           0.5555555555555556,
           "#d8576b"
          ],
          [
           0.6666666666666666,
           "#ed7953"
          ],
          [
           0.7777777777777778,
           "#fb9f3a"
          ],
          [
           0.8888888888888888,
           "#fdca26"
          ],
          [
           1,
           "#f0f921"
          ]
         ]
        },
        "legend": {
         "tracegroupgap": 0
        },
        "template": {
         "data": {
          "bar": [
           {
            "error_x": {
             "color": "#2a3f5f"
            },
            "error_y": {
             "color": "#2a3f5f"
            },
            "marker": {
             "line": {
              "color": "#E5ECF6",
              "width": 0.5
             },
             "pattern": {
              "fillmode": "overlay",
              "size": 10,
              "solidity": 0.2
             }
            },
            "type": "bar"
           }
          ],
          "barpolar": [
           {
            "marker": {
             "line": {
              "color": "#E5ECF6",
              "width": 0.5
             },
             "pattern": {
              "fillmode": "overlay",
              "size": 10,
              "solidity": 0.2
             }
            },
            "type": "barpolar"
           }
          ],
          "carpet": [
           {
            "aaxis": {
             "endlinecolor": "#2a3f5f",
             "gridcolor": "white",
             "linecolor": "white",
             "minorgridcolor": "white",
             "startlinecolor": "#2a3f5f"
            },
            "baxis": {
             "endlinecolor": "#2a3f5f",
             "gridcolor": "white",
             "linecolor": "white",
             "minorgridcolor": "white",
             "startlinecolor": "#2a3f5f"
            },
            "type": "carpet"
           }
          ],
          "choropleth": [
           {
            "colorbar": {
             "outlinewidth": 0,
             "ticks": ""
            },
            "type": "choropleth"
           }
          ],
          "contour": [
           {
            "colorbar": {
             "outlinewidth": 0,
             "ticks": ""
            },
            "colorscale": [
             [
              0,
              "#0d0887"
             ],
             [
              0.1111111111111111,
              "#46039f"
             ],
             [
              0.2222222222222222,
              "#7201a8"
             ],
             [
              0.3333333333333333,
              "#9c179e"
             ],
             [
              0.4444444444444444,
              "#bd3786"
             ],
             [
              0.5555555555555556,
              "#d8576b"
             ],
             [
              0.6666666666666666,
              "#ed7953"
             ],
             [
              0.7777777777777778,
              "#fb9f3a"
             ],
             [
              0.8888888888888888,
              "#fdca26"
             ],
             [
              1,
              "#f0f921"
             ]
            ],
            "type": "contour"
           }
          ],
          "contourcarpet": [
           {
            "colorbar": {
             "outlinewidth": 0,
             "ticks": ""
            },
            "type": "contourcarpet"
           }
          ],
          "heatmap": [
           {
            "colorbar": {
             "outlinewidth": 0,
             "ticks": ""
            },
            "colorscale": [
             [
              0,
              "#0d0887"
             ],
             [
              0.1111111111111111,
              "#46039f"
             ],
             [
              0.2222222222222222,
              "#7201a8"
             ],
             [
              0.3333333333333333,
              "#9c179e"
             ],
             [
              0.4444444444444444,
              "#bd3786"
             ],
             [
              0.5555555555555556,
              "#d8576b"
             ],
             [
              0.6666666666666666,
              "#ed7953"
             ],
             [
              0.7777777777777778,
              "#fb9f3a"
             ],
             [
              0.8888888888888888,
              "#fdca26"
             ],
             [
              1,
              "#f0f921"
             ]
            ],
            "type": "heatmap"
           }
          ],
          "heatmapgl": [
           {
            "colorbar": {
             "outlinewidth": 0,
             "ticks": ""
            },
            "colorscale": [
             [
              0,
              "#0d0887"
             ],
             [
              0.1111111111111111,
              "#46039f"
             ],
             [
              0.2222222222222222,
              "#7201a8"
             ],
             [
              0.3333333333333333,
              "#9c179e"
             ],
             [
              0.4444444444444444,
              "#bd3786"
             ],
             [
              0.5555555555555556,
              "#d8576b"
             ],
             [
              0.6666666666666666,
              "#ed7953"
             ],
             [
              0.7777777777777778,
              "#fb9f3a"
             ],
             [
              0.8888888888888888,
              "#fdca26"
             ],
             [
              1,
              "#f0f921"
             ]
            ],
            "type": "heatmapgl"
           }
          ],
          "histogram": [
           {
            "marker": {
             "pattern": {
              "fillmode": "overlay",
              "size": 10,
              "solidity": 0.2
             }
            },
            "type": "histogram"
           }
          ],
          "histogram2d": [
           {
            "colorbar": {
             "outlinewidth": 0,
             "ticks": ""
            },
            "colorscale": [
             [
              0,
              "#0d0887"
             ],
             [
              0.1111111111111111,
              "#46039f"
             ],
             [
              0.2222222222222222,
              "#7201a8"
             ],
             [
              0.3333333333333333,
              "#9c179e"
             ],
             [
              0.4444444444444444,
              "#bd3786"
             ],
             [
              0.5555555555555556,
              "#d8576b"
             ],
             [
              0.6666666666666666,
              "#ed7953"
             ],
             [
              0.7777777777777778,
              "#fb9f3a"
             ],
             [
              0.8888888888888888,
              "#fdca26"
             ],
             [
              1,
              "#f0f921"
             ]
            ],
            "type": "histogram2d"
           }
          ],
          "histogram2dcontour": [
           {
            "colorbar": {
             "outlinewidth": 0,
             "ticks": ""
            },
            "colorscale": [
             [
              0,
              "#0d0887"
             ],
             [
              0.1111111111111111,
              "#46039f"
             ],
             [
              0.2222222222222222,
              "#7201a8"
             ],
             [
              0.3333333333333333,
              "#9c179e"
             ],
             [
              0.4444444444444444,
              "#bd3786"
             ],
             [
              0.5555555555555556,
              "#d8576b"
             ],
             [
              0.6666666666666666,
              "#ed7953"
             ],
             [
              0.7777777777777778,
              "#fb9f3a"
             ],
             [
              0.8888888888888888,
              "#fdca26"
             ],
             [
              1,
              "#f0f921"
             ]
            ],
            "type": "histogram2dcontour"
           }
          ],
          "mesh3d": [
           {
            "colorbar": {
             "outlinewidth": 0,
             "ticks": ""
            },
            "type": "mesh3d"
           }
          ],
          "parcoords": [
           {
            "line": {
             "colorbar": {
              "outlinewidth": 0,
              "ticks": ""
             }
            },
            "type": "parcoords"
           }
          ],
          "pie": [
           {
            "automargin": true,
            "type": "pie"
           }
          ],
          "scatter": [
           {
            "fillpattern": {
             "fillmode": "overlay",
             "size": 10,
             "solidity": 0.2
            },
            "type": "scatter"
           }
          ],
          "scatter3d": [
           {
            "line": {
             "colorbar": {
              "outlinewidth": 0,
              "ticks": ""
             }
            },
            "marker": {
             "colorbar": {
              "outlinewidth": 0,
              "ticks": ""
             }
            },
            "type": "scatter3d"
           }
          ],
          "scattercarpet": [
           {
            "marker": {
             "colorbar": {
              "outlinewidth": 0,
              "ticks": ""
             }
            },
            "type": "scattercarpet"
           }
          ],
          "scattergeo": [
           {
            "marker": {
             "colorbar": {
              "outlinewidth": 0,
              "ticks": ""
             }
            },
            "type": "scattergeo"
           }
          ],
          "scattergl": [
           {
            "marker": {
             "colorbar": {
              "outlinewidth": 0,
              "ticks": ""
             }
            },
            "type": "scattergl"
           }
          ],
          "scattermapbox": [
           {
            "marker": {
             "colorbar": {
              "outlinewidth": 0,
              "ticks": ""
             }
            },
            "type": "scattermapbox"
           }
          ],
          "scatterpolar": [
           {
            "marker": {
             "colorbar": {
              "outlinewidth": 0,
              "ticks": ""
             }
            },
            "type": "scatterpolar"
           }
          ],
          "scatterpolargl": [
           {
            "marker": {
             "colorbar": {
              "outlinewidth": 0,
              "ticks": ""
             }
            },
            "type": "scatterpolargl"
           }
          ],
          "scatterternary": [
           {
            "marker": {
             "colorbar": {
              "outlinewidth": 0,
              "ticks": ""
             }
            },
            "type": "scatterternary"
           }
          ],
          "surface": [
           {
            "colorbar": {
             "outlinewidth": 0,
             "ticks": ""
            },
            "colorscale": [
             [
              0,
              "#0d0887"
             ],
             [
              0.1111111111111111,
              "#46039f"
             ],
             [
              0.2222222222222222,
              "#7201a8"
             ],
             [
              0.3333333333333333,
              "#9c179e"
             ],
             [
              0.4444444444444444,
              "#bd3786"
             ],
             [
              0.5555555555555556,
              "#d8576b"
             ],
             [
              0.6666666666666666,
              "#ed7953"
             ],
             [
              0.7777777777777778,
              "#fb9f3a"
             ],
             [
              0.8888888888888888,
              "#fdca26"
             ],
             [
              1,
              "#f0f921"
             ]
            ],
            "type": "surface"
           }
          ],
          "table": [
           {
            "cells": {
             "fill": {
              "color": "#EBF0F8"
             },
             "line": {
              "color": "white"
             }
            },
            "header": {
             "fill": {
              "color": "#C8D4E3"
             },
             "line": {
              "color": "white"
             }
            },
            "type": "table"
           }
          ]
         },
         "layout": {
          "annotationdefaults": {
           "arrowcolor": "#2a3f5f",
           "arrowhead": 0,
           "arrowwidth": 1
          },
          "autotypenumbers": "strict",
          "coloraxis": {
           "colorbar": {
            "outlinewidth": 0,
            "ticks": ""
           }
          },
          "colorscale": {
           "diverging": [
            [
             0,
             "#8e0152"
            ],
            [
             0.1,
             "#c51b7d"
            ],
            [
             0.2,
             "#de77ae"
            ],
            [
             0.3,
             "#f1b6da"
            ],
            [
             0.4,
             "#fde0ef"
            ],
            [
             0.5,
             "#f7f7f7"
            ],
            [
             0.6,
             "#e6f5d0"
            ],
            [
             0.7,
             "#b8e186"
            ],
            [
             0.8,
             "#7fbc41"
            ],
            [
             0.9,
             "#4d9221"
            ],
            [
             1,
             "#276419"
            ]
           ],
           "sequential": [
            [
             0,
             "#0d0887"
            ],
            [
             0.1111111111111111,
             "#46039f"
            ],
            [
             0.2222222222222222,
             "#7201a8"
            ],
            [
             0.3333333333333333,
             "#9c179e"
            ],
            [
             0.4444444444444444,
             "#bd3786"
            ],
            [
             0.5555555555555556,
             "#d8576b"
            ],
            [
             0.6666666666666666,
             "#ed7953"
            ],
            [
             0.7777777777777778,
             "#fb9f3a"
            ],
            [
             0.8888888888888888,
             "#fdca26"
            ],
            [
             1,
             "#f0f921"
            ]
           ],
           "sequentialminus": [
            [
             0,
             "#0d0887"
            ],
            [
             0.1111111111111111,
             "#46039f"
            ],
            [
             0.2222222222222222,
             "#7201a8"
            ],
            [
             0.3333333333333333,
             "#9c179e"
            ],
            [
             0.4444444444444444,
             "#bd3786"
            ],
            [
             0.5555555555555556,
             "#d8576b"
            ],
            [
             0.6666666666666666,
             "#ed7953"
            ],
            [
             0.7777777777777778,
             "#fb9f3a"
            ],
            [
             0.8888888888888888,
             "#fdca26"
            ],
            [
             1,
             "#f0f921"
            ]
           ]
          },
          "colorway": [
           "#636efa",
           "#EF553B",
           "#00cc96",
           "#ab63fa",
           "#FFA15A",
           "#19d3f3",
           "#FF6692",
           "#B6E880",
           "#FF97FF",
           "#FECB52"
          ],
          "font": {
           "color": "#2a3f5f"
          },
          "geo": {
           "bgcolor": "white",
           "lakecolor": "white",
           "landcolor": "#E5ECF6",
           "showlakes": true,
           "showland": true,
           "subunitcolor": "white"
          },
          "hoverlabel": {
           "align": "left"
          },
          "hovermode": "closest",
          "mapbox": {
           "style": "light"
          },
          "paper_bgcolor": "white",
          "plot_bgcolor": "#E5ECF6",
          "polar": {
           "angularaxis": {
            "gridcolor": "white",
            "linecolor": "white",
            "ticks": ""
           },
           "bgcolor": "#E5ECF6",
           "radialaxis": {
            "gridcolor": "white",
            "linecolor": "white",
            "ticks": ""
           }
          },
          "scene": {
           "xaxis": {
            "backgroundcolor": "#E5ECF6",
            "gridcolor": "white",
            "gridwidth": 2,
            "linecolor": "white",
            "showbackground": true,
            "ticks": "",
            "zerolinecolor": "white"
           },
           "yaxis": {
            "backgroundcolor": "#E5ECF6",
            "gridcolor": "white",
            "gridwidth": 2,
            "linecolor": "white",
            "showbackground": true,
            "ticks": "",
            "zerolinecolor": "white"
           },
           "zaxis": {
            "backgroundcolor": "#E5ECF6",
            "gridcolor": "white",
            "gridwidth": 2,
            "linecolor": "white",
            "showbackground": true,
            "ticks": "",
            "zerolinecolor": "white"
           }
          },
          "shapedefaults": {
           "line": {
            "color": "#2a3f5f"
           }
          },
          "ternary": {
           "aaxis": {
            "gridcolor": "white",
            "linecolor": "white",
            "ticks": ""
           },
           "baxis": {
            "gridcolor": "white",
            "linecolor": "white",
            "ticks": ""
           },
           "bgcolor": "#E5ECF6",
           "caxis": {
            "gridcolor": "white",
            "linecolor": "white",
            "ticks": ""
           }
          },
          "title": {
           "x": 0.05
          },
          "xaxis": {
           "automargin": true,
           "gridcolor": "white",
           "linecolor": "white",
           "ticks": "",
           "title": {
            "standoff": 15
           },
           "zerolinecolor": "white",
           "zerolinewidth": 2
          },
          "yaxis": {
           "automargin": true,
           "gridcolor": "white",
           "linecolor": "white",
           "ticks": "",
           "title": {
            "standoff": 15
           },
           "zerolinecolor": "white",
           "zerolinewidth": 2
          }
         }
        },
        "title": {
         "text": "Scatter Plot of Popular Songs using Tempo against Danceability"
        },
        "xaxis": {
         "anchor": "y",
         "domain": [
          0,
          1
         ],
         "title": {
          "text": "tempo"
         }
        },
        "yaxis": {
         "anchor": "x",
         "domain": [
          0,
          1
         ],
         "title": {
          "text": "danceability"
         }
        }
       }
      }
     },
     "metadata": {},
     "output_type": "display_data"
    }
   ],
   "source": [
    "# Scatter Plot\n",
    "figure = px.scatter(playlist_df, x = playlist_df['tempo'], y = playlist_df['danceability'], color = playlist_df['popularity'], \n",
    "                    title = 'Scatter Plot of Popular Songs using Tempo against Danceability')\n",
    "\n",
    "figure.show()"
   ]
  },
  {
   "cell_type": "markdown",
   "id": "0be80669",
   "metadata": {},
   "source": [
    "From the figure above, in the playlist, the most popular songs are around medium tempo and danceability. It could have different results when testing different playlists. Most of the songs in the playlist are below 0.8 danceability. It seems that it has a logarithmic relationship, for this playlist."
   ]
  },
  {
   "cell_type": "code",
   "execution_count": 31,
   "id": "f18e2adb",
   "metadata": {},
   "outputs": [
    {
     "data": {
      "application/vnd.plotly.v1+json": {
       "config": {
        "plotlyServerURL": "https://plot.ly"
       },
       "data": [
        {
         "hovertemplate": "valence=%{x}<br>energy=%{y}<br>tempo=%{marker.color}<extra></extra>",
         "legendgroup": "",
         "marker": {
          "color": [
           130.021,
           128.012,
           133.971,
           107.993,
           133.406,
           98.966,
           126.977,
           126.002,
           130.01,
           129.925,
           96.976,
           120.026,
           124.965,
           122.028,
           127.963,
           159.814,
           127.992,
           103.976,
           107.938,
           92.998,
           85.984,
           154.961,
           126.043,
           132.067,
           78.915,
           126.039,
           125.047,
           75.881,
           128.001,
           91.972,
           124.91,
           127.967,
           143.994,
           126.035,
           79.936
          ],
          "coloraxis": "coloraxis",
          "symbol": "circle"
         },
         "mode": "markers",
         "name": "",
         "orientation": "v",
         "showlegend": false,
         "type": "scatter",
         "x": [
          0.795,
          0.685,
          0.876,
          0.446,
          0.139,
          0.255,
          0.793,
          0.659,
          0.761,
          0.643,
          0.332,
          0.644,
          0.932,
          0.721,
          0.444,
          0.575,
          0.569,
          0.739,
          0.392,
          0.613,
          0.75,
          0.725,
          0.286,
          0.749,
          0.267,
          0.931,
          0.408,
          0.0789,
          0.801,
          0.393,
          0.248,
          0.206,
          0.867,
          0.763,
          0.353
         ],
         "xaxis": "x",
         "y": [
          0.861,
          0.89,
          0.795,
          0.67,
          0.303,
          0.332,
          0.547,
          0.861,
          0.922,
          0.841,
          0.55,
          0.6,
          0.878,
          0.837,
          0.847,
          0.683,
          0.862,
          0.937,
          0.738,
          0.82,
          0.676,
          0.924,
          0.712,
          0.937,
          0.527,
          0.857,
          0.777,
          0.552,
          0.7,
          0.71,
          0.677,
          0.691,
          0.698,
          0.822,
          0.466
         ],
         "yaxis": "y"
        }
       ],
       "layout": {
        "coloraxis": {
         "colorbar": {
          "title": {
           "text": "tempo"
          }
         },
         "colorscale": [
          [
           0,
           "#0d0887"
          ],
          [
           0.1111111111111111,
           "#46039f"
          ],
          [
           0.2222222222222222,
           "#7201a8"
          ],
          [
           0.3333333333333333,
           "#9c179e"
          ],
          [
           0.4444444444444444,
           "#bd3786"
          ],
          [
           0.5555555555555556,
           "#d8576b"
          ],
          [
           0.6666666666666666,
           "#ed7953"
          ],
          [
           0.7777777777777778,
           "#fb9f3a"
          ],
          [
           0.8888888888888888,
           "#fdca26"
          ],
          [
           1,
           "#f0f921"
          ]
         ]
        },
        "legend": {
         "tracegroupgap": 0
        },
        "template": {
         "data": {
          "bar": [
           {
            "error_x": {
             "color": "#2a3f5f"
            },
            "error_y": {
             "color": "#2a3f5f"
            },
            "marker": {
             "line": {
              "color": "#E5ECF6",
              "width": 0.5
             },
             "pattern": {
              "fillmode": "overlay",
              "size": 10,
              "solidity": 0.2
             }
            },
            "type": "bar"
           }
          ],
          "barpolar": [
           {
            "marker": {
             "line": {
              "color": "#E5ECF6",
              "width": 0.5
             },
             "pattern": {
              "fillmode": "overlay",
              "size": 10,
              "solidity": 0.2
             }
            },
            "type": "barpolar"
           }
          ],
          "carpet": [
           {
            "aaxis": {
             "endlinecolor": "#2a3f5f",
             "gridcolor": "white",
             "linecolor": "white",
             "minorgridcolor": "white",
             "startlinecolor": "#2a3f5f"
            },
            "baxis": {
             "endlinecolor": "#2a3f5f",
             "gridcolor": "white",
             "linecolor": "white",
             "minorgridcolor": "white",
             "startlinecolor": "#2a3f5f"
            },
            "type": "carpet"
           }
          ],
          "choropleth": [
           {
            "colorbar": {
             "outlinewidth": 0,
             "ticks": ""
            },
            "type": "choropleth"
           }
          ],
          "contour": [
           {
            "colorbar": {
             "outlinewidth": 0,
             "ticks": ""
            },
            "colorscale": [
             [
              0,
              "#0d0887"
             ],
             [
              0.1111111111111111,
              "#46039f"
             ],
             [
              0.2222222222222222,
              "#7201a8"
             ],
             [
              0.3333333333333333,
              "#9c179e"
             ],
             [
              0.4444444444444444,
              "#bd3786"
             ],
             [
              0.5555555555555556,
              "#d8576b"
             ],
             [
              0.6666666666666666,
              "#ed7953"
             ],
             [
              0.7777777777777778,
              "#fb9f3a"
             ],
             [
              0.8888888888888888,
              "#fdca26"
             ],
             [
              1,
              "#f0f921"
             ]
            ],
            "type": "contour"
           }
          ],
          "contourcarpet": [
           {
            "colorbar": {
             "outlinewidth": 0,
             "ticks": ""
            },
            "type": "contourcarpet"
           }
          ],
          "heatmap": [
           {
            "colorbar": {
             "outlinewidth": 0,
             "ticks": ""
            },
            "colorscale": [
             [
              0,
              "#0d0887"
             ],
             [
              0.1111111111111111,
              "#46039f"
             ],
             [
              0.2222222222222222,
              "#7201a8"
             ],
             [
              0.3333333333333333,
              "#9c179e"
             ],
             [
              0.4444444444444444,
              "#bd3786"
             ],
             [
              0.5555555555555556,
              "#d8576b"
             ],
             [
              0.6666666666666666,
              "#ed7953"
             ],
             [
              0.7777777777777778,
              "#fb9f3a"
             ],
             [
              0.8888888888888888,
              "#fdca26"
             ],
             [
              1,
              "#f0f921"
             ]
            ],
            "type": "heatmap"
           }
          ],
          "heatmapgl": [
           {
            "colorbar": {
             "outlinewidth": 0,
             "ticks": ""
            },
            "colorscale": [
             [
              0,
              "#0d0887"
             ],
             [
              0.1111111111111111,
              "#46039f"
             ],
             [
              0.2222222222222222,
              "#7201a8"
             ],
             [
              0.3333333333333333,
              "#9c179e"
             ],
             [
              0.4444444444444444,
              "#bd3786"
             ],
             [
              0.5555555555555556,
              "#d8576b"
             ],
             [
              0.6666666666666666,
              "#ed7953"
             ],
             [
              0.7777777777777778,
              "#fb9f3a"
             ],
             [
              0.8888888888888888,
              "#fdca26"
             ],
             [
              1,
              "#f0f921"
             ]
            ],
            "type": "heatmapgl"
           }
          ],
          "histogram": [
           {
            "marker": {
             "pattern": {
              "fillmode": "overlay",
              "size": 10,
              "solidity": 0.2
             }
            },
            "type": "histogram"
           }
          ],
          "histogram2d": [
           {
            "colorbar": {
             "outlinewidth": 0,
             "ticks": ""
            },
            "colorscale": [
             [
              0,
              "#0d0887"
             ],
             [
              0.1111111111111111,
              "#46039f"
             ],
             [
              0.2222222222222222,
              "#7201a8"
             ],
             [
              0.3333333333333333,
              "#9c179e"
             ],
             [
              0.4444444444444444,
              "#bd3786"
             ],
             [
              0.5555555555555556,
              "#d8576b"
             ],
             [
              0.6666666666666666,
              "#ed7953"
             ],
             [
              0.7777777777777778,
              "#fb9f3a"
             ],
             [
              0.8888888888888888,
              "#fdca26"
             ],
             [
              1,
              "#f0f921"
             ]
            ],
            "type": "histogram2d"
           }
          ],
          "histogram2dcontour": [
           {
            "colorbar": {
             "outlinewidth": 0,
             "ticks": ""
            },
            "colorscale": [
             [
              0,
              "#0d0887"
             ],
             [
              0.1111111111111111,
              "#46039f"
             ],
             [
              0.2222222222222222,
              "#7201a8"
             ],
             [
              0.3333333333333333,
              "#9c179e"
             ],
             [
              0.4444444444444444,
              "#bd3786"
             ],
             [
              0.5555555555555556,
              "#d8576b"
             ],
             [
              0.6666666666666666,
              "#ed7953"
             ],
             [
              0.7777777777777778,
              "#fb9f3a"
             ],
             [
              0.8888888888888888,
              "#fdca26"
             ],
             [
              1,
              "#f0f921"
             ]
            ],
            "type": "histogram2dcontour"
           }
          ],
          "mesh3d": [
           {
            "colorbar": {
             "outlinewidth": 0,
             "ticks": ""
            },
            "type": "mesh3d"
           }
          ],
          "parcoords": [
           {
            "line": {
             "colorbar": {
              "outlinewidth": 0,
              "ticks": ""
             }
            },
            "type": "parcoords"
           }
          ],
          "pie": [
           {
            "automargin": true,
            "type": "pie"
           }
          ],
          "scatter": [
           {
            "fillpattern": {
             "fillmode": "overlay",
             "size": 10,
             "solidity": 0.2
            },
            "type": "scatter"
           }
          ],
          "scatter3d": [
           {
            "line": {
             "colorbar": {
              "outlinewidth": 0,
              "ticks": ""
             }
            },
            "marker": {
             "colorbar": {
              "outlinewidth": 0,
              "ticks": ""
             }
            },
            "type": "scatter3d"
           }
          ],
          "scattercarpet": [
           {
            "marker": {
             "colorbar": {
              "outlinewidth": 0,
              "ticks": ""
             }
            },
            "type": "scattercarpet"
           }
          ],
          "scattergeo": [
           {
            "marker": {
             "colorbar": {
              "outlinewidth": 0,
              "ticks": ""
             }
            },
            "type": "scattergeo"
           }
          ],
          "scattergl": [
           {
            "marker": {
             "colorbar": {
              "outlinewidth": 0,
              "ticks": ""
             }
            },
            "type": "scattergl"
           }
          ],
          "scattermapbox": [
           {
            "marker": {
             "colorbar": {
              "outlinewidth": 0,
              "ticks": ""
             }
            },
            "type": "scattermapbox"
           }
          ],
          "scatterpolar": [
           {
            "marker": {
             "colorbar": {
              "outlinewidth": 0,
              "ticks": ""
             }
            },
            "type": "scatterpolar"
           }
          ],
          "scatterpolargl": [
           {
            "marker": {
             "colorbar": {
              "outlinewidth": 0,
              "ticks": ""
             }
            },
            "type": "scatterpolargl"
           }
          ],
          "scatterternary": [
           {
            "marker": {
             "colorbar": {
              "outlinewidth": 0,
              "ticks": ""
             }
            },
            "type": "scatterternary"
           }
          ],
          "surface": [
           {
            "colorbar": {
             "outlinewidth": 0,
             "ticks": ""
            },
            "colorscale": [
             [
              0,
              "#0d0887"
             ],
             [
              0.1111111111111111,
              "#46039f"
             ],
             [
              0.2222222222222222,
              "#7201a8"
             ],
             [
              0.3333333333333333,
              "#9c179e"
             ],
             [
              0.4444444444444444,
              "#bd3786"
             ],
             [
              0.5555555555555556,
              "#d8576b"
             ],
             [
              0.6666666666666666,
              "#ed7953"
             ],
             [
              0.7777777777777778,
              "#fb9f3a"
             ],
             [
              0.8888888888888888,
              "#fdca26"
             ],
             [
              1,
              "#f0f921"
             ]
            ],
            "type": "surface"
           }
          ],
          "table": [
           {
            "cells": {
             "fill": {
              "color": "#EBF0F8"
             },
             "line": {
              "color": "white"
             }
            },
            "header": {
             "fill": {
              "color": "#C8D4E3"
             },
             "line": {
              "color": "white"
             }
            },
            "type": "table"
           }
          ]
         },
         "layout": {
          "annotationdefaults": {
           "arrowcolor": "#2a3f5f",
           "arrowhead": 0,
           "arrowwidth": 1
          },
          "autotypenumbers": "strict",
          "coloraxis": {
           "colorbar": {
            "outlinewidth": 0,
            "ticks": ""
           }
          },
          "colorscale": {
           "diverging": [
            [
             0,
             "#8e0152"
            ],
            [
             0.1,
             "#c51b7d"
            ],
            [
             0.2,
             "#de77ae"
            ],
            [
             0.3,
             "#f1b6da"
            ],
            [
             0.4,
             "#fde0ef"
            ],
            [
             0.5,
             "#f7f7f7"
            ],
            [
             0.6,
             "#e6f5d0"
            ],
            [
             0.7,
             "#b8e186"
            ],
            [
             0.8,
             "#7fbc41"
            ],
            [
             0.9,
             "#4d9221"
            ],
            [
             1,
             "#276419"
            ]
           ],
           "sequential": [
            [
             0,
             "#0d0887"
            ],
            [
             0.1111111111111111,
             "#46039f"
            ],
            [
             0.2222222222222222,
             "#7201a8"
            ],
            [
             0.3333333333333333,
             "#9c179e"
            ],
            [
             0.4444444444444444,
             "#bd3786"
            ],
            [
             0.5555555555555556,
             "#d8576b"
            ],
            [
             0.6666666666666666,
             "#ed7953"
            ],
            [
             0.7777777777777778,
             "#fb9f3a"
            ],
            [
             0.8888888888888888,
             "#fdca26"
            ],
            [
             1,
             "#f0f921"
            ]
           ],
           "sequentialminus": [
            [
             0,
             "#0d0887"
            ],
            [
             0.1111111111111111,
             "#46039f"
            ],
            [
             0.2222222222222222,
             "#7201a8"
            ],
            [
             0.3333333333333333,
             "#9c179e"
            ],
            [
             0.4444444444444444,
             "#bd3786"
            ],
            [
             0.5555555555555556,
             "#d8576b"
            ],
            [
             0.6666666666666666,
             "#ed7953"
            ],
            [
             0.7777777777777778,
             "#fb9f3a"
            ],
            [
             0.8888888888888888,
             "#fdca26"
            ],
            [
             1,
             "#f0f921"
            ]
           ]
          },
          "colorway": [
           "#636efa",
           "#EF553B",
           "#00cc96",
           "#ab63fa",
           "#FFA15A",
           "#19d3f3",
           "#FF6692",
           "#B6E880",
           "#FF97FF",
           "#FECB52"
          ],
          "font": {
           "color": "#2a3f5f"
          },
          "geo": {
           "bgcolor": "white",
           "lakecolor": "white",
           "landcolor": "#E5ECF6",
           "showlakes": true,
           "showland": true,
           "subunitcolor": "white"
          },
          "hoverlabel": {
           "align": "left"
          },
          "hovermode": "closest",
          "mapbox": {
           "style": "light"
          },
          "paper_bgcolor": "white",
          "plot_bgcolor": "#E5ECF6",
          "polar": {
           "angularaxis": {
            "gridcolor": "white",
            "linecolor": "white",
            "ticks": ""
           },
           "bgcolor": "#E5ECF6",
           "radialaxis": {
            "gridcolor": "white",
            "linecolor": "white",
            "ticks": ""
           }
          },
          "scene": {
           "xaxis": {
            "backgroundcolor": "#E5ECF6",
            "gridcolor": "white",
            "gridwidth": 2,
            "linecolor": "white",
            "showbackground": true,
            "ticks": "",
            "zerolinecolor": "white"
           },
           "yaxis": {
            "backgroundcolor": "#E5ECF6",
            "gridcolor": "white",
            "gridwidth": 2,
            "linecolor": "white",
            "showbackground": true,
            "ticks": "",
            "zerolinecolor": "white"
           },
           "zaxis": {
            "backgroundcolor": "#E5ECF6",
            "gridcolor": "white",
            "gridwidth": 2,
            "linecolor": "white",
            "showbackground": true,
            "ticks": "",
            "zerolinecolor": "white"
           }
          },
          "shapedefaults": {
           "line": {
            "color": "#2a3f5f"
           }
          },
          "ternary": {
           "aaxis": {
            "gridcolor": "white",
            "linecolor": "white",
            "ticks": ""
           },
           "baxis": {
            "gridcolor": "white",
            "linecolor": "white",
            "ticks": ""
           },
           "bgcolor": "#E5ECF6",
           "caxis": {
            "gridcolor": "white",
            "linecolor": "white",
            "ticks": ""
           }
          },
          "title": {
           "x": 0.05
          },
          "xaxis": {
           "automargin": true,
           "gridcolor": "white",
           "linecolor": "white",
           "ticks": "",
           "title": {
            "standoff": 15
           },
           "zerolinecolor": "white",
           "zerolinewidth": 2
          },
          "yaxis": {
           "automargin": true,
           "gridcolor": "white",
           "linecolor": "white",
           "ticks": "",
           "title": {
            "standoff": 15
           },
           "zerolinecolor": "white",
           "zerolinewidth": 2
          }
         }
        },
        "title": {
         "text": "Scatter Plot of Valence vs Energy"
        },
        "xaxis": {
         "anchor": "y",
         "domain": [
          0,
          1
         ],
         "title": {
          "text": "valence"
         }
        },
        "yaxis": {
         "anchor": "x",
         "domain": [
          0,
          1
         ],
         "title": {
          "text": "energy"
         }
        }
       }
      }
     },
     "metadata": {},
     "output_type": "display_data"
    }
   ],
   "source": [
    "# valence vs energy scatterplot\n",
    "scatter_valence_energy = px.scatter(playlist_df, x='valence', y='energy',color='tempo',\n",
    "                                    title='Scatter Plot of Valence vs Energy')\n",
    "scatter_valence_energy.show()"
   ]
  },
  {
   "cell_type": "markdown",
   "id": "d50ca5aa",
   "metadata": {},
   "source": [
    "When comparing valence and energy, there is a postive correlation between them. Usually the higher the valence the higher the energy. We can also tell that the points on the right have higher tempo as well, which means three of them are in postive correlation."
   ]
  },
  {
   "cell_type": "code",
   "execution_count": 32,
   "id": "84167792",
   "metadata": {},
   "outputs": [
    {
     "name": "stdout",
     "output_type": "stream",
     "text": [
      "Artist with Songs Popularity > 70:\n",
      "Katy Perry       3\n",
      "Taylor Swift     3\n",
      "Rihanna          2\n",
      "Adele            2\n",
      "Neon Trees       1\n",
      "Bruno Mars       1\n",
      "Ne-Yo            1\n",
      "Kesha            1\n",
      "One Direction    1\n",
      "PSY              1\n",
      "Maroon 5         1\n",
      "fun.             1\n",
      "Flo Rida         1\n",
      "Train            1\n",
      "Justin Bieber    1\n",
      "Jason Mraz       1\n",
      "The Lumineers    1\n",
      "Name: artists, dtype: int64\n"
     ]
    }
   ],
   "source": [
    "# Artists with songs having popularity greater than 70\n",
    "popular_artists = playlist_df[playlist_df['popularity'] > 70]['artists'].value_counts()\n",
    "print(\"Artist with Songs Popularity > 70:\")\n",
    "print(popular_artists)"
   ]
  },
  {
   "cell_type": "markdown",
   "id": "11575845",
   "metadata": {},
   "source": [
    "We see that Katy Perry and Taylor Swift has most populated songs in this playlist."
   ]
  },
  {
   "cell_type": "code",
   "execution_count": 33,
   "id": "9d794bbd",
   "metadata": {},
   "outputs": [
    {
     "data": {
      "application/vnd.plotly.v1+json": {
       "config": {
        "plotlyServerURL": "https://plot.ly"
       },
       "data": [
        {
         "domain": {
          "x": [
           0,
           1
          ],
          "y": [
           0,
           1
          ]
         },
         "hovertemplate": "label=%{label}<br>value=%{value}<extra></extra>",
         "labels": [
          "Katy Perry",
          "Taylor Swift",
          "Rihanna",
          "Adele",
          "Neon Trees",
          "Bruno Mars",
          "Ne-Yo",
          "Kesha",
          "One Direction",
          "PSY",
          "Maroon 5",
          "fun.",
          "Flo Rida",
          "Train",
          "Justin Bieber",
          "Jason Mraz",
          "The Lumineers"
         ],
         "legendgroup": "",
         "name": "",
         "showlegend": true,
         "textinfo": "percent+label",
         "textposition": "inside",
         "type": "pie",
         "values": [
          3,
          3,
          2,
          2,
          1,
          1,
          1,
          1,
          1,
          1,
          1,
          1,
          1,
          1,
          1,
          1,
          1
         ]
        }
       ],
       "layout": {
        "legend": {
         "tracegroupgap": 0
        },
        "template": {
         "data": {
          "bar": [
           {
            "error_x": {
             "color": "#2a3f5f"
            },
            "error_y": {
             "color": "#2a3f5f"
            },
            "marker": {
             "line": {
              "color": "#E5ECF6",
              "width": 0.5
             },
             "pattern": {
              "fillmode": "overlay",
              "size": 10,
              "solidity": 0.2
             }
            },
            "type": "bar"
           }
          ],
          "barpolar": [
           {
            "marker": {
             "line": {
              "color": "#E5ECF6",
              "width": 0.5
             },
             "pattern": {
              "fillmode": "overlay",
              "size": 10,
              "solidity": 0.2
             }
            },
            "type": "barpolar"
           }
          ],
          "carpet": [
           {
            "aaxis": {
             "endlinecolor": "#2a3f5f",
             "gridcolor": "white",
             "linecolor": "white",
             "minorgridcolor": "white",
             "startlinecolor": "#2a3f5f"
            },
            "baxis": {
             "endlinecolor": "#2a3f5f",
             "gridcolor": "white",
             "linecolor": "white",
             "minorgridcolor": "white",
             "startlinecolor": "#2a3f5f"
            },
            "type": "carpet"
           }
          ],
          "choropleth": [
           {
            "colorbar": {
             "outlinewidth": 0,
             "ticks": ""
            },
            "type": "choropleth"
           }
          ],
          "contour": [
           {
            "colorbar": {
             "outlinewidth": 0,
             "ticks": ""
            },
            "colorscale": [
             [
              0,
              "#0d0887"
             ],
             [
              0.1111111111111111,
              "#46039f"
             ],
             [
              0.2222222222222222,
              "#7201a8"
             ],
             [
              0.3333333333333333,
              "#9c179e"
             ],
             [
              0.4444444444444444,
              "#bd3786"
             ],
             [
              0.5555555555555556,
              "#d8576b"
             ],
             [
              0.6666666666666666,
              "#ed7953"
             ],
             [
              0.7777777777777778,
              "#fb9f3a"
             ],
             [
              0.8888888888888888,
              "#fdca26"
             ],
             [
              1,
              "#f0f921"
             ]
            ],
            "type": "contour"
           }
          ],
          "contourcarpet": [
           {
            "colorbar": {
             "outlinewidth": 0,
             "ticks": ""
            },
            "type": "contourcarpet"
           }
          ],
          "heatmap": [
           {
            "colorbar": {
             "outlinewidth": 0,
             "ticks": ""
            },
            "colorscale": [
             [
              0,
              "#0d0887"
             ],
             [
              0.1111111111111111,
              "#46039f"
             ],
             [
              0.2222222222222222,
              "#7201a8"
             ],
             [
              0.3333333333333333,
              "#9c179e"
             ],
             [
              0.4444444444444444,
              "#bd3786"
             ],
             [
              0.5555555555555556,
              "#d8576b"
             ],
             [
              0.6666666666666666,
              "#ed7953"
             ],
             [
              0.7777777777777778,
              "#fb9f3a"
             ],
             [
              0.8888888888888888,
              "#fdca26"
             ],
             [
              1,
              "#f0f921"
             ]
            ],
            "type": "heatmap"
           }
          ],
          "heatmapgl": [
           {
            "colorbar": {
             "outlinewidth": 0,
             "ticks": ""
            },
            "colorscale": [
             [
              0,
              "#0d0887"
             ],
             [
              0.1111111111111111,
              "#46039f"
             ],
             [
              0.2222222222222222,
              "#7201a8"
             ],
             [
              0.3333333333333333,
              "#9c179e"
             ],
             [
              0.4444444444444444,
              "#bd3786"
             ],
             [
              0.5555555555555556,
              "#d8576b"
             ],
             [
              0.6666666666666666,
              "#ed7953"
             ],
             [
              0.7777777777777778,
              "#fb9f3a"
             ],
             [
              0.8888888888888888,
              "#fdca26"
             ],
             [
              1,
              "#f0f921"
             ]
            ],
            "type": "heatmapgl"
           }
          ],
          "histogram": [
           {
            "marker": {
             "pattern": {
              "fillmode": "overlay",
              "size": 10,
              "solidity": 0.2
             }
            },
            "type": "histogram"
           }
          ],
          "histogram2d": [
           {
            "colorbar": {
             "outlinewidth": 0,
             "ticks": ""
            },
            "colorscale": [
             [
              0,
              "#0d0887"
             ],
             [
              0.1111111111111111,
              "#46039f"
             ],
             [
              0.2222222222222222,
              "#7201a8"
             ],
             [
              0.3333333333333333,
              "#9c179e"
             ],
             [
              0.4444444444444444,
              "#bd3786"
             ],
             [
              0.5555555555555556,
              "#d8576b"
             ],
             [
              0.6666666666666666,
              "#ed7953"
             ],
             [
              0.7777777777777778,
              "#fb9f3a"
             ],
             [
              0.8888888888888888,
              "#fdca26"
             ],
             [
              1,
              "#f0f921"
             ]
            ],
            "type": "histogram2d"
           }
          ],
          "histogram2dcontour": [
           {
            "colorbar": {
             "outlinewidth": 0,
             "ticks": ""
            },
            "colorscale": [
             [
              0,
              "#0d0887"
             ],
             [
              0.1111111111111111,
              "#46039f"
             ],
             [
              0.2222222222222222,
              "#7201a8"
             ],
             [
              0.3333333333333333,
              "#9c179e"
             ],
             [
              0.4444444444444444,
              "#bd3786"
             ],
             [
              0.5555555555555556,
              "#d8576b"
             ],
             [
              0.6666666666666666,
              "#ed7953"
             ],
             [
              0.7777777777777778,
              "#fb9f3a"
             ],
             [
              0.8888888888888888,
              "#fdca26"
             ],
             [
              1,
              "#f0f921"
             ]
            ],
            "type": "histogram2dcontour"
           }
          ],
          "mesh3d": [
           {
            "colorbar": {
             "outlinewidth": 0,
             "ticks": ""
            },
            "type": "mesh3d"
           }
          ],
          "parcoords": [
           {
            "line": {
             "colorbar": {
              "outlinewidth": 0,
              "ticks": ""
             }
            },
            "type": "parcoords"
           }
          ],
          "pie": [
           {
            "automargin": true,
            "type": "pie"
           }
          ],
          "scatter": [
           {
            "fillpattern": {
             "fillmode": "overlay",
             "size": 10,
             "solidity": 0.2
            },
            "type": "scatter"
           }
          ],
          "scatter3d": [
           {
            "line": {
             "colorbar": {
              "outlinewidth": 0,
              "ticks": ""
             }
            },
            "marker": {
             "colorbar": {
              "outlinewidth": 0,
              "ticks": ""
             }
            },
            "type": "scatter3d"
           }
          ],
          "scattercarpet": [
           {
            "marker": {
             "colorbar": {
              "outlinewidth": 0,
              "ticks": ""
             }
            },
            "type": "scattercarpet"
           }
          ],
          "scattergeo": [
           {
            "marker": {
             "colorbar": {
              "outlinewidth": 0,
              "ticks": ""
             }
            },
            "type": "scattergeo"
           }
          ],
          "scattergl": [
           {
            "marker": {
             "colorbar": {
              "outlinewidth": 0,
              "ticks": ""
             }
            },
            "type": "scattergl"
           }
          ],
          "scattermapbox": [
           {
            "marker": {
             "colorbar": {
              "outlinewidth": 0,
              "ticks": ""
             }
            },
            "type": "scattermapbox"
           }
          ],
          "scatterpolar": [
           {
            "marker": {
             "colorbar": {
              "outlinewidth": 0,
              "ticks": ""
             }
            },
            "type": "scatterpolar"
           }
          ],
          "scatterpolargl": [
           {
            "marker": {
             "colorbar": {
              "outlinewidth": 0,
              "ticks": ""
             }
            },
            "type": "scatterpolargl"
           }
          ],
          "scatterternary": [
           {
            "marker": {
             "colorbar": {
              "outlinewidth": 0,
              "ticks": ""
             }
            },
            "type": "scatterternary"
           }
          ],
          "surface": [
           {
            "colorbar": {
             "outlinewidth": 0,
             "ticks": ""
            },
            "colorscale": [
             [
              0,
              "#0d0887"
             ],
             [
              0.1111111111111111,
              "#46039f"
             ],
             [
              0.2222222222222222,
              "#7201a8"
             ],
             [
              0.3333333333333333,
              "#9c179e"
             ],
             [
              0.4444444444444444,
              "#bd3786"
             ],
             [
              0.5555555555555556,
              "#d8576b"
             ],
             [
              0.6666666666666666,
              "#ed7953"
             ],
             [
              0.7777777777777778,
              "#fb9f3a"
             ],
             [
              0.8888888888888888,
              "#fdca26"
             ],
             [
              1,
              "#f0f921"
             ]
            ],
            "type": "surface"
           }
          ],
          "table": [
           {
            "cells": {
             "fill": {
              "color": "#EBF0F8"
             },
             "line": {
              "color": "white"
             }
            },
            "header": {
             "fill": {
              "color": "#C8D4E3"
             },
             "line": {
              "color": "white"
             }
            },
            "type": "table"
           }
          ]
         },
         "layout": {
          "annotationdefaults": {
           "arrowcolor": "#2a3f5f",
           "arrowhead": 0,
           "arrowwidth": 1
          },
          "autotypenumbers": "strict",
          "coloraxis": {
           "colorbar": {
            "outlinewidth": 0,
            "ticks": ""
           }
          },
          "colorscale": {
           "diverging": [
            [
             0,
             "#8e0152"
            ],
            [
             0.1,
             "#c51b7d"
            ],
            [
             0.2,
             "#de77ae"
            ],
            [
             0.3,
             "#f1b6da"
            ],
            [
             0.4,
             "#fde0ef"
            ],
            [
             0.5,
             "#f7f7f7"
            ],
            [
             0.6,
             "#e6f5d0"
            ],
            [
             0.7,
             "#b8e186"
            ],
            [
             0.8,
             "#7fbc41"
            ],
            [
             0.9,
             "#4d9221"
            ],
            [
             1,
             "#276419"
            ]
           ],
           "sequential": [
            [
             0,
             "#0d0887"
            ],
            [
             0.1111111111111111,
             "#46039f"
            ],
            [
             0.2222222222222222,
             "#7201a8"
            ],
            [
             0.3333333333333333,
             "#9c179e"
            ],
            [
             0.4444444444444444,
             "#bd3786"
            ],
            [
             0.5555555555555556,
             "#d8576b"
            ],
            [
             0.6666666666666666,
             "#ed7953"
            ],
            [
             0.7777777777777778,
             "#fb9f3a"
            ],
            [
             0.8888888888888888,
             "#fdca26"
            ],
            [
             1,
             "#f0f921"
            ]
           ],
           "sequentialminus": [
            [
             0,
             "#0d0887"
            ],
            [
             0.1111111111111111,
             "#46039f"
            ],
            [
             0.2222222222222222,
             "#7201a8"
            ],
            [
             0.3333333333333333,
             "#9c179e"
            ],
            [
             0.4444444444444444,
             "#bd3786"
            ],
            [
             0.5555555555555556,
             "#d8576b"
            ],
            [
             0.6666666666666666,
             "#ed7953"
            ],
            [
             0.7777777777777778,
             "#fb9f3a"
            ],
            [
             0.8888888888888888,
             "#fdca26"
            ],
            [
             1,
             "#f0f921"
            ]
           ]
          },
          "colorway": [
           "#636efa",
           "#EF553B",
           "#00cc96",
           "#ab63fa",
           "#FFA15A",
           "#19d3f3",
           "#FF6692",
           "#B6E880",
           "#FF97FF",
           "#FECB52"
          ],
          "font": {
           "color": "#2a3f5f"
          },
          "geo": {
           "bgcolor": "white",
           "lakecolor": "white",
           "landcolor": "#E5ECF6",
           "showlakes": true,
           "showland": true,
           "subunitcolor": "white"
          },
          "hoverlabel": {
           "align": "left"
          },
          "hovermode": "closest",
          "mapbox": {
           "style": "light"
          },
          "paper_bgcolor": "white",
          "plot_bgcolor": "#E5ECF6",
          "polar": {
           "angularaxis": {
            "gridcolor": "white",
            "linecolor": "white",
            "ticks": ""
           },
           "bgcolor": "#E5ECF6",
           "radialaxis": {
            "gridcolor": "white",
            "linecolor": "white",
            "ticks": ""
           }
          },
          "scene": {
           "xaxis": {
            "backgroundcolor": "#E5ECF6",
            "gridcolor": "white",
            "gridwidth": 2,
            "linecolor": "white",
            "showbackground": true,
            "ticks": "",
            "zerolinecolor": "white"
           },
           "yaxis": {
            "backgroundcolor": "#E5ECF6",
            "gridcolor": "white",
            "gridwidth": 2,
            "linecolor": "white",
            "showbackground": true,
            "ticks": "",
            "zerolinecolor": "white"
           },
           "zaxis": {
            "backgroundcolor": "#E5ECF6",
            "gridcolor": "white",
            "gridwidth": 2,
            "linecolor": "white",
            "showbackground": true,
            "ticks": "",
            "zerolinecolor": "white"
           }
          },
          "shapedefaults": {
           "line": {
            "color": "#2a3f5f"
           }
          },
          "ternary": {
           "aaxis": {
            "gridcolor": "white",
            "linecolor": "white",
            "ticks": ""
           },
           "baxis": {
            "gridcolor": "white",
            "linecolor": "white",
            "ticks": ""
           },
           "bgcolor": "#E5ECF6",
           "caxis": {
            "gridcolor": "white",
            "linecolor": "white",
            "ticks": ""
           }
          },
          "title": {
           "x": 0.05
          },
          "xaxis": {
           "automargin": true,
           "gridcolor": "white",
           "linecolor": "white",
           "ticks": "",
           "title": {
            "standoff": 15
           },
           "zerolinecolor": "white",
           "zerolinewidth": 2
          },
          "yaxis": {
           "automargin": true,
           "gridcolor": "white",
           "linecolor": "white",
           "ticks": "",
           "title": {
            "standoff": 15
           },
           "zerolinecolor": "white",
           "zerolinewidth": 2
          }
         }
        },
        "title": {
         "text": "Artist whose song has high popularity greater than 70"
        }
       }
      }
     },
     "metadata": {},
     "output_type": "display_data"
    }
   ],
   "source": [
    "# pie chart\n",
    "pop_70 =  playlist_df.loc[lambda playlist: playlist[\"popularity\"] > 70].sort_values(by=[\"popularity\"], ascending=False)\n",
    "\n",
    "chart = px.pie(pop_70, popular_artists.index, popular_artists.values, \n",
    "             title = 'Artist whose song has high popularity greater than 70')\n",
    "chart.update_traces(textposition = \"inside\", textinfo = \"percent + label\") \n",
    "chart.show()"
   ]
  }
 ],
 "metadata": {
  "kernelspec": {
   "display_name": "Python 3 (ipykernel)",
   "language": "python",
   "name": "python3"
  },
  "language_info": {
   "codemirror_mode": {
    "name": "ipython",
    "version": 3
   },
   "file_extension": ".py",
   "mimetype": "text/x-python",
   "name": "python",
   "nbconvert_exporter": "python",
   "pygments_lexer": "ipython3",
   "version": "3.11.4"
  }
 },
 "nbformat": 4,
 "nbformat_minor": 5
}
