{
 "cells": [
  {
   "cell_type": "code",
   "execution_count": 14,
   "id": "5975e5e4",
   "metadata": {},
   "outputs": [],
   "source": [
    "import pandas as pd\n",
    "import spotipy\n",
    "from spotipy.oauth2 import SpotifyOAuth\n",
    "from tqdm import tqdm\n",
    "import numpy as np\n",
    "import math"
   ]
  },
  {
   "cell_type": "markdown",
   "id": "37a009b7",
   "metadata": {},
   "source": [
    "-> SPOTIPY_CLIENT_ID - Get this from the Spotify app in the Developer Console\n",
    "\n",
    "-> SPOTIPY_CLIENT_SECRET - Get this from the Spotify app in the Developer Console\n",
    "\n",
    "-> SPOTIPY_REDIRECT_URI - Set to http://localhost:3000/callback"
   ]
  },
  {
   "cell_type": "code",
   "execution_count": 2,
   "id": "fdd9c585",
   "metadata": {},
   "outputs": [],
   "source": [
    "# To get client ID and client secret\n",
    "client_id = '9ff8454bd3e049b6a1229206ce536ac8'  # <-- replace with your own client ID\n",
    "client_secret = '24c245fb45fa46eb8c57d36dd8770b3d' # <-- replace with your own client secret\n",
    "\n",
    "auth_manager = SpotifyOAuth(client_id = client_id, redirect_uri='http://localhost:3000/callback',\n",
    "                            client_secret = client_secret, scope=\"playlist-modify-public\", open_browser=False)\n",
    "auth_url = auth_manager.get_authorize_url()"
   ]
  },
  {
   "cell_type": "code",
   "execution_count": 3,
   "id": "8720197a",
   "metadata": {},
   "outputs": [
    {
     "name": "stdout",
     "output_type": "stream",
     "text": [
      "Please visit this URL to authorize the application: https://accounts.spotify.com/authorize?client_id=9ff8454bd3e049b6a1229206ce536ac8&response_type=code&redirect_uri=http%3A%2F%2Flocalhost%3A3000%2Fcallback&scope=playlist-modify-public\n",
      "BQAvKRWS8UqA-eaDefqVXew4YMzJPp_jBZu_Pox5k3cxnUBv_MKWr4Mu9qpm9o_ViRH0lW7gXbjW2o9xzHGT-FOyH7EPmtvvHnqgBUrQjEFjAyb6FlzM341c0XsRGBFqiF33aiFwKvCaC1nCRsxFToIGr3pohixHOKMb2gDNja8p1DvSPNxfEo4GZ4KVY5Th9MqUaTcbED2kwjgm7e-YkJpm2lvH4S26M2tFD-oaJFS9zq0BD9-A2sBXWlVqAdiJOn3fwdX160JyYdwA\n"
     ]
    }
   ],
   "source": [
    "print(f\"Please visit this URL to authorize the application: {auth_url}\")\n",
    "response = input(\"Paste the above link into your browser's address bar: \")\n",
    "\n",
    "# Get access token using the obtained authorization code\n",
    "token_info = auth_manager.get_access_token(response, as_dict = False)\n",
    "print(token_info)"
   ]
  },
  {
   "cell_type": "code",
   "execution_count": 4,
   "id": "4d168886",
   "metadata": {},
   "outputs": [
    {
     "name": "stdout",
     "output_type": "stream",
     "text": [
      "{'display_name': 'Jackson Chen', 'external_urls': {'spotify': 'https://open.spotify.com/user/31flqmapu6wd5a57mqga7pbgfobq'}, 'href': 'https://api.spotify.com/v1/users/31flqmapu6wd5a57mqga7pbgfobq', 'id': '31flqmapu6wd5a57mqga7pbgfobq', 'images': [], 'type': 'user', 'uri': 'spotify:user:31flqmapu6wd5a57mqga7pbgfobq', 'followers': {'href': None, 'total': 0}, 'country': 'US', 'product': 'free', 'explicit_content': {'filter_enabled': False, 'filter_locked': False}, 'email': 'jiaxinchen0519@gmail.com'}\n"
     ]
    }
   ],
   "source": [
    "spotify = spotipy.Spotify(auth_manager=auth_manager)\n",
    "user_info = spotify.current_user()\n",
    "print(user_info)"
   ]
  },
  {
   "cell_type": "code",
   "execution_count": 13,
   "id": "a88f504d",
   "metadata": {},
   "outputs": [
    {
     "name": "stdout",
     "output_type": "stream",
     "text": [
      "[1958 1959 1960 1961 1962 1963 1964 1965 1966 1967 1968 1969 1970 1971\n",
      " 1972 1973 1974 1975 1976 1977 1978 1979 1980 1981 1982 1983 1984 1985\n",
      " 1986 1987 1988 1989 1990 1991 1992 1993 1994 1995 1996 1997 1998 1999\n",
      " 2000 2001 2002 2003 2004 2005 2006 2007 2008 2009 2010 2011 2012 2013\n",
      " 2014 2015 2016 2017 2018 2019 2020 2021 2022]\n"
     ]
    }
   ],
   "source": [
    "# Read the song data, and apply some of them to make playlist according to years\n",
    "df = pd.read_csv(\"song.csv\")\n",
    "years = df['year'].unique()\n",
    "print(years)"
   ]
  },
  {
   "cell_type": "markdown",
   "id": "7986a7bb",
   "metadata": {},
   "source": [
    "We see that the song data years spread from 1958 to 2022"
   ]
  },
  {
   "cell_type": "code",
   "execution_count": 7,
   "id": "5247d2fb",
   "metadata": {},
   "outputs": [],
   "source": [
    "pd.DataFrame(columns=['id','name','link']).to_csv(\"playlists.csv\", index=False)\n",
    "\n",
    "def is_playlist_created(playlist_name, existing_playlists):\n",
    "    \"\"\"\n",
    "    Checks if playlist has already been created.\n",
    "\n",
    "    Parameters:\n",
    "    - playlist_name: str, name of the playlist to check\n",
    "    - playlists_df: pd.DataFrame, DataFrame containing information about existing playlists\n",
    "\n",
    "    Returns:\n",
    "    - bool, True if the playlist has not been created, False otherwise\n",
    "    \"\"\"\n",
    "    return not any(existing_playlists['name'] == playlist_name)\n",
    "\n",
    "def save_playlists(playlist_info, playlist_name, existing_playlists):\n",
    "    \"\"\"\n",
    "    Saves playlist information in a CSV file.\n",
    "\n",
    "    Parameters:\n",
    "    - playlist: dict, information about the newly created playlist\n",
    "    - playlist_name: str, name of the playlist\n",
    "    - playlists_df: pd.DataFrame, DataFrame containing information about existing playlists\n",
    "    \"\"\"\n",
    "    new_playlist_entry = {\n",
    "        'name': playlist_name,\n",
    "        'id': playlist_info['id'],\n",
    "        'link': playlist_info['external_urls']['spotify']\n",
    "    }\n",
    "\n",
    "    updated_playlists = pd.concat([existing_playlists, pd.DataFrame([new_playlist_entry])])\n",
    "    updated_playlists.to_csv(\"playlists.csv\", index=False)\n",
    "\n",
    "def create_playlist(start_year, end_year):\n",
    "    \"\"\"\n",
    "    Creates the playlist and adds tracks from songs.csv given the start and end year.\n",
    "\n",
    "    Parameters:\n",
    "    - start_year: int, starting year for creating the playlist\n",
    "    - end_year: int, ending year for creating the playlist\n",
    "    \"\"\"\n",
    "    # Read existing playlists information from playlists.csv\n",
    "    existing_playlists = pd.read_csv(\"playlists.csv\")\n",
    "\n",
    "    # Generate playlist name based on the start and end years\n",
    "    if (start_year - end_year) == 0:\n",
    "        new_playlist_name = f\"Top Songs: {start_year}\"\n",
    "    else:\n",
    "        new_playlist_name = f\"Top Songs: {start_year}-{end_year}\"\n",
    "\n",
    "    # Check if the playlist already exists\n",
    "    if is_playlist_created(new_playlist_name, existing_playlists):\n",
    "        # Create a new playlist \n",
    "        playlist = spotify.user_playlist_create(user=user_info['id'], name=new_playlist_name)\n",
    "\n",
    "        # Get the Spotify URIs of tracks within the specified year range\n",
    "        track_uris = list(df[(df['year'] >= start_year) & (df['year'] <= end_year)]['spotify_uri'].values)\n",
    "\n",
    "        # Split URIs into chunks of 100 (Spotify API limit)\n",
    "        chunks = np.array_split(track_uris, math.ceil(len(track_uris) / 100))\n",
    "\n",
    "        # Add tracks to the created playlist in chunks\n",
    "        for uri in chunks:\n",
    "            spotify.user_playlist_add_tracks(user=user_info['id'], playlist_id=playlist['id'], tracks=uri)\n",
    "\n",
    "        # Save information about the created playlist\n",
    "        save_playlists(playlist, new_playlist_name, existing_playlists)"
   ]
  },
  {
   "cell_type": "code",
   "execution_count": 10,
   "id": "f98dbc26",
   "metadata": {},
   "outputs": [
    {
     "data": {
      "text/plain": [
       "55"
      ]
     },
     "execution_count": 10,
     "metadata": {},
     "output_type": "execute_result"
    }
   ],
   "source": [
    "# make playlist from 2012 to 2023\n",
    "start_year = 2012 # <-- adjust the year range if you want\n",
    "end_year = 2023 # <-- adkust the year range if you want\n",
    "years = list(range(start_year, end_year))\n",
    "\n",
    "year_ranges = []\n",
    "for i in range(0,21):\n",
    "    for start in years[:-i]:\n",
    "        end = start + i\n",
    "        year_ranges.append((start, end))\n",
    "\n",
    "len(year_ranges)"
   ]
  },
  {
   "cell_type": "code",
   "execution_count": 11,
   "id": "262206de",
   "metadata": {},
   "outputs": [
    {
     "name": "stderr",
     "output_type": "stream",
     "text": [
      "  0%|          | 0/55 [00:00<?, ?it/s]"
     ]
    },
    {
     "name": "stderr",
     "output_type": "stream",
     "text": [
      "100%|██████████| 55/55 [00:33<00:00,  1.64it/s]\n"
     ]
    }
   ],
   "source": [
    "# This produces around 1090 playlists if the range increases to 1958-2023\n",
    "for y in tqdm(year_ranges):\n",
    "    create_playlist(start_year = y[0], end_year = y[1])"
   ]
  }
 ],
 "metadata": {
  "kernelspec": {
   "display_name": "Python 3 (ipykernel)",
   "language": "python",
   "name": "python3"
  },
  "language_info": {
   "codemirror_mode": {
    "name": "ipython",
    "version": 3
   },
   "file_extension": ".py",
   "mimetype": "text/x-python",
   "name": "python",
   "nbconvert_exporter": "python",
   "pygments_lexer": "ipython3",
   "version": "3.11.4"
  }
 },
 "nbformat": 4,
 "nbformat_minor": 5
}
